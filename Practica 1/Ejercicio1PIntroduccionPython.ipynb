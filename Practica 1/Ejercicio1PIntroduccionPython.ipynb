{
 "cells": [
  {
   "cell_type": "code",
   "execution_count": 1,
   "metadata": {},
   "outputs": [],
   "source": [
    "monedas=[500,200,100,50,20,10,5,2,1,0.5,0.2,0.1,0.05,0.02,0.01] #Lista con tipos de unidades monetarias europeas"
   ]
  },
  {
   "cell_type": "code",
   "execution_count": 2,
   "metadata": {},
   "outputs": [],
   "source": [
    "# Devuelve una lista con las unidades monetarias devueltas\n",
    "def monedasFunc(total):\n",
    "    # Inicializacion\n",
    "    vueltas=[]\n",
    "    restante=total\n",
    "    ind=0\n",
    "    # Mientras que haya dinero que devolver\n",
    "    while (restante>0):\n",
    "        # Mientras que la unidad monetaria actual sea mayor a la cantidad restante\n",
    "        # Procurar que el indice no se salga del rango de la lista\n",
    "        while (ind < len(monedas) and monedas[ind]>restante):\n",
    "            ind=ind+1\n",
    "        vueltas.append(monedas[ind]) # Añade la unidad monetaria a devolver a la lista\n",
    "        restante=restante-monedas[ind] # Resta el valor a la cantidad restante\n",
    "        restante=round(restante,2) # Redondeamos para evitar problemas con los float\n",
    "    return vueltas"
   ]
  },
  {
   "cell_type": "code",
   "execution_count": 3,
   "metadata": {},
   "outputs": [
    {
     "name": "stdout",
     "output_type": "stream",
     "text": [
      "[100, 20, 2, 1]\n"
     ]
    }
   ],
   "source": [
    "x = monedasFunc(123)\n",
    "print(x)"
   ]
  }
 ],
 "metadata": {
  "kernelspec": {
   "display_name": "Python 3",
   "language": "python",
   "name": "python3"
  },
  "language_info": {
   "codemirror_mode": {
    "name": "ipython",
    "version": 3
   },
   "file_extension": ".py",
   "mimetype": "text/x-python",
   "name": "python",
   "nbconvert_exporter": "python",
   "pygments_lexer": "ipython3",
   "version": "3.6.2"
  }
 },
 "nbformat": 4,
 "nbformat_minor": 2
}
