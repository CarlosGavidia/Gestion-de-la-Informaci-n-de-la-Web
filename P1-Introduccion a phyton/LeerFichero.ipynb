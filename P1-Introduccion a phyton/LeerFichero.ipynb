{
 "cells": [
  {
   "cell_type": "code",
   "execution_count": 19,
   "metadata": {},
   "outputs": [
    {
     "name": "stdout",
     "output_type": "stream",
     "text": [
      "carlos\n",
      "david\n",
      "carlos\n",
      "\n",
      "carlos\n",
      "alex\n",
      "\n",
      "dani\n",
      "enrique\n",
      "\n",
      "david\n"
     ]
    }
   ],
   "source": [
    "fichero = open(\"cuna.txt\")\n",
    "diccionario= dict()\n",
    "lineas = fichero.readlines()\n",
    "for frase in lineas:\n",
    "    delimitador = \" \"\n",
    "    p=frase.split(delimitador)\n",
    "    for palabra in p:\n",
    "        if palabra != \"\\n\": #si es diferente de un espacio\n",
    "            if \"palabra\" in diccionario :\n",
    "                diccionario[\"palabra\"]=diccionario[\"palabra\"]+1\n",
    "            else: \n",
    "                diccionario[\"palabra\"] = 1\n",
    "            \n",
    "            print(palabra)\n",
    "        \n"
   ]
  },
  {
   "cell_type": "code",
   "execution_count": null,
   "metadata": {
    "collapsed": true
   },
   "outputs": [],
   "source": []
  },
  {
   "cell_type": "code",
   "execution_count": null,
   "metadata": {
    "collapsed": true
   },
   "outputs": [],
   "source": []
  },
  {
   "cell_type": "code",
   "execution_count": null,
   "metadata": {
    "collapsed": true
   },
   "outputs": [],
   "source": []
  },
  {
   "cell_type": "code",
   "execution_count": null,
   "metadata": {
    "collapsed": true
   },
   "outputs": [],
   "source": []
  }
 ],
 "metadata": {
  "kernelspec": {
   "display_name": "Python 3",
   "language": "python",
   "name": "python3"
  },
  "language_info": {
   "codemirror_mode": {
    "name": "ipython",
    "version": 3
   },
   "file_extension": ".py",
   "mimetype": "text/x-python",
   "name": "python",
   "nbconvert_exporter": "python",
   "pygments_lexer": "ipython3",
   "version": "3.6.2"
  }
 },
 "nbformat": 4,
 "nbformat_minor": 2
}
