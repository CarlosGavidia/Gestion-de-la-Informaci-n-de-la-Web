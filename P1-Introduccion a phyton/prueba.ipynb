{
 "cells": [
  {
   "cell_type": "code",
   "execution_count": 8,
   "metadata": {},
   "outputs": [
    {
     "name": "stdout",
     "output_type": "stream",
     "text": [
      "Frase:fdsfds fsdfdfd d\n",
      "Primero:2\n",
      "Segundo:3\n",
      "f\n"
     ]
    }
   ],
   "source": [
    "def formatear(lista):\n",
    "    return lista[0]\n",
    "\n",
    "nombre= input (\"Frase:\")\n",
    "num1= input (\"Primero:\")\n",
    "int (num1)\n",
    "num2= input (\"Segundo:\")\n",
    "int (num2)\n",
    "\n",
    "nombre.split()\n",
    "l= formatear(nombre)\n",
    "print(l)"
   ]
  },
  {
   "cell_type": "code",
   "execution_count": null,
   "metadata": {
    "collapsed": true
   },
   "outputs": [],
   "source": []
  },
  {
   "cell_type": "code",
   "execution_count": null,
   "metadata": {
    "collapsed": true
   },
   "outputs": [],
   "source": []
  },
  {
   "cell_type": "code",
   "execution_count": null,
   "metadata": {
    "collapsed": true
   },
   "outputs": [],
   "source": []
  }
 ],
 "metadata": {
  "kernelspec": {
   "display_name": "Python 3",
   "language": "python",
   "name": "python3"
  },
  "language_info": {
   "codemirror_mode": {
    "name": "ipython",
    "version": 3
   },
   "file_extension": ".py",
   "mimetype": "text/x-python",
   "name": "python",
   "nbconvert_exporter": "python",
   "pygments_lexer": "ipython3",
   "version": "3.6.2"
  }
 },
 "nbformat": 4,
 "nbformat_minor": 2
}
